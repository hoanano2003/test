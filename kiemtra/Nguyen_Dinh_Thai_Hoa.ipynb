{
 "cells": [
  {
   "cell_type": "code",
   "execution_count": null,
   "metadata": {},
   "outputs": [
    {
     "ename": "",
     "evalue": "",
     "output_type": "error",
     "traceback": [
      "\u001b[1;31mRunning cells with 'c:\\Users\\ADMIN\\AppData\\Local\\Programs\\Python\\Python310\\python.exe' requires ipykernel package.\n",
      "\u001b[1;31mRun the following command to install 'ipykernel' into the Python environment. \n",
      "\u001b[1;31mCommand: 'c:/Users/ADMIN/AppData/Local/Programs/Python/Python310/python.exe -m pip install ipykernel -U --user --force-reinstall'"
     ]
    }
   ],
   "source": [
    "# cau1\n",
    "def tuCuoiCung(str):\n",
    "    x = str.rfind(\" \")\n",
    "    return str[x+1:]\n",
    "ds = []\n",
    "while(True):\n",
    "    temp = input(\"Nhap vao ho ten: \")\n",
    "    if temp ==\"\":\n",
    "        break\n",
    "    ds.append(temp)\n",
    "dem = 0\n",
    "for i in ds:\n",
    "    if tuCuoiCung(i)==\"Anh\":\n",
    "        dem += 1\n",
    "print(\"So sinh vien co ten Anh la: \",dem)\n",
    "# cau 2\n",
    "dic = {\"mahp\":\"\",\"tenhp\":\"\",\"sotc\":0}\n",
    "n = int(input(\"Nhap so luong hoc phan: \"))\n",
    "ds = []\n",
    "for i in range(n):\n",
    "    mahp = input(\"Ma hoc phan: \")\n",
    "    tenhp = input(\"Ten hoc phan: \")\n",
    "    sotc = int(input(\"So tin chi: \"))\n",
    "    dic.update({\"mahp\":mahp,\"tenhp\":tenhp,\"sotc\":sotc})\n",
    "    ds.append(dic.copy())\n",
    "for i in ds:\n",
    "    if i[\"mahp\"].find(\"TIN\") == 0:\n",
    "        print(\"{0} | {1} | {2}\".format(i[\"mahp\"],i[\"tenhp\"],i[\"sotc\"]))\n",
    "s =  input(\"Nhap chuoi s: \")\n",
    "for i in ds:\n",
    "    if s.upper() in i[\"tenhp\"].upper():\n",
    "        print(i[\"tenhp\"])\n",
    "# cau 3\n",
    "class HoaDon:\n",
    "    def __init__(self,maKH=\"\",hoTen=\"\",diaChi=\"\",chiSoCu=0,chiSoMoi=0):\n",
    "        self.maKH = maKH\n",
    "        self.hoTen = hoTen\n",
    "        self.diaChi = diaChi\n",
    "        self.chiSoCu = chiSoCu\n",
    "        self.chiSoMoi = chiSoMoi\n",
    "    def getMaKH(self):\n",
    "        return self.maKH\n",
    "    def getLuongDienTT(self):\n",
    "        return self.chiSoMoi - self.chiSoCu\n",
    "    def hienThi(self):\n",
    "        print(\"{0} | {1} | {2} | {3}\".format(self.maKH,self.hoTen,self.diaChi,self.getLuongDienTT()))\n",
    "    def __gt__(self,ob2):\n",
    "        return self.getLuongDienTT() > ob2.getLuongDienTT()\n",
    "# cau 4\n",
    "n = int(input(\"Nhap so luong khach hang: \"))\n",
    "ds = []\n",
    "for i in range(n):\n",
    "    while True:\n",
    "        print(\"Khach hang thu {0}:\".format(i+1))\n",
    "        maKH = input(\"Ma khach hang: \")\n",
    "        tonTai = 0\n",
    "        for j in range(i):\n",
    "            if ds[j].maKH == maKH:\n",
    "                print(\"Ma khach hang da ton tai, nhap lai: \")\n",
    "                tonTai = 1\n",
    "                break\n",
    "        if tonTai == 0:\n",
    "            hoTen = input(\"Ho ten: \")\n",
    "            diaChi = input(\"Dia chi: \")\n",
    "            chiSoCu = int(input(\"Chi so cu: \"))\n",
    "            chiSoMoi = int(input(\"Chi so moi: \"))\n",
    "            ds.append(HoaDon(maKH,hoTen,diaChi,chiSoCu,chiSoMoi))\n",
    "            break\n",
    "for i in range(n-1):\n",
    "    for j in range(i+1,n):\n",
    "        if ds[i] > ds[j]:\n",
    "            ds[i],ds[j] = ds[j],ds[i]\n",
    "tonTai = 0\n",
    "ma  = input(\"Nhap ma: \")\n",
    "for i in ds:\n",
    "    if i.maKH == ma:\n",
    "        i.hienThi()\n",
    "        tonTai = 1\n",
    "        break\n",
    "if tonTai == 0:\n",
    "    print(\"Khong ton tai khach hang nay\")\n",
    "f = open(\"output.data\",\"w\")\n",
    "for i in ds:\n",
    "    if i.getLuongDienTT()>100:\n",
    "        print(\"{0}; {1}; {2}\".format(i.maKH,i.hoTen,i.diaChi),file=f)"
   ]
  }
 ],
 "metadata": {
  "kernelspec": {
   "display_name": "Python 3",
   "language": "python",
   "name": "python3"
  },
  "language_info": {
   "name": "python",
   "version": "3.10.7 (tags/v3.10.7:6cc6b13, Sep  5 2022, 14:08:36) [MSC v.1933 64 bit (AMD64)]"
  },
  "orig_nbformat": 4,
  "vscode": {
   "interpreter": {
    "hash": "31671a60cee805c34c73116577b485118ff3a75c458d3004d49632c19702ac60"
   }
  }
 },
 "nbformat": 4,
 "nbformat_minor": 2
}
